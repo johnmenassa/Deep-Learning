{
  "cells": [
    {
      "cell_type": "markdown",
      "source": [
        "In this tutorial, we will learn to implement simple GCN and GraphSage model by [PyG (PyTorch Geometric) library](https://pytorch-geometric.readthedocs.io/en/latest/index.html) . We will work on the node classification and link prediction tasks on a real dataset: Cora."
      ],
      "metadata": {
        "id": "6P31-kOdlktn"
      }
    },
    {
      "cell_type": "markdown",
      "source": [
        "# Install Packages\n",
        "Before we move on to the modeling part, we need to ensure the pytorch version so that it's compatible with the PyG library. There are several supported pytorch version (and CUDA version). For illustration, we use 'pytorch == 2.2.2+cu118' as the supported version in this tutorial. We also use pip installer as the version controling tool. So the first step for you is to check whether you have the right version."
      ],
      "metadata": {
        "id": "_CXYrbazmOs_"
      }
    },
    {
      "cell_type": "code",
      "source": [
        "!pip list -v | grep torch"
      ],
      "metadata": {
        "colab": {
          "base_uri": "https://localhost:8080/"
        },
        "id": "hBkWtLJPhJv1",
        "outputId": "26977894-4f68-4b9f-d050-2fa455b6763c"
      },
      "execution_count": 1,
      "outputs": [
        {
          "output_type": "stream",
          "name": "stdout",
          "text": [
            "torch                            2.2.2+cu118           /usr/local/lib/python3.10/dist-packages pip\n",
            "torchaudio                       2.2.2+cu118           /usr/local/lib/python3.10/dist-packages pip\n",
            "torchdata                        0.7.1                 /usr/local/lib/python3.10/dist-packages pip\n",
            "torchsummary                     1.5.1                 /usr/local/lib/python3.10/dist-packages pip\n",
            "torchtext                        0.17.1                /usr/local/lib/python3.10/dist-packages pip\n",
            "torchvision                      0.17.2+cu118          /usr/local/lib/python3.10/dist-packages pip\n"
          ]
        }
      ]
    },
    {
      "cell_type": "markdown",
      "source": [
        "From the first line of the text above, we can check if the version of pytorch is indeed 2.2.2+cu118. If the version is correct, please skip this part. If not, please update the pytorch version by running the following code. CRITICAL: the code will uninstall your original pytorch version and install the newest one.  \n",
        "ATTENTION!!! Everytime the output ask you \"Proceed (y/n)?\", please input \"y\" in the box."
      ],
      "metadata": {
        "id": "zo47Ptu_noWU"
      }
    },
    {
      "cell_type": "code",
      "source": [
        "!pip uninstall torch torchvision torchaudio\n",
        "!pip3 install torch torchvision torchaudio --index-url https://download.pytorch.org/whl/cu118"
      ],
      "metadata": {
        "colab": {
          "base_uri": "https://localhost:8080/",
          "height": 1000
        },
        "id": "XyacU66le7Xq",
        "outputId": "c3593544-5c8e-47d2-d80f-ed69ba0dd6d2"
      },
      "execution_count": 7,
      "outputs": [
        {
          "output_type": "stream",
          "name": "stdout",
          "text": [
            "Found existing installation: torch 2.2.2\n",
            "Uninstalling torch-2.2.2:\n",
            "  Would remove:\n",
            "    /usr/local/bin/convert-caffe2-to-onnx\n",
            "    /usr/local/bin/convert-onnx-to-caffe2\n",
            "    /usr/local/bin/torchrun\n",
            "    /usr/local/lib/python3.10/dist-packages/functorch/*\n",
            "    /usr/local/lib/python3.10/dist-packages/torch-2.2.2.dist-info/*\n",
            "    /usr/local/lib/python3.10/dist-packages/torch/*\n",
            "    /usr/local/lib/python3.10/dist-packages/torchgen/*\n",
            "Proceed (Y/n)? Y\n",
            "  Successfully uninstalled torch-2.2.2\n",
            "Found existing installation: torchvision 0.17.2\n",
            "Uninstalling torchvision-0.17.2:\n",
            "  Would remove:\n",
            "    /usr/local/lib/python3.10/dist-packages/torchvision-0.17.2.dist-info/*\n",
            "    /usr/local/lib/python3.10/dist-packages/torchvision.libs/libcudart.7ec1eba6.so.12\n",
            "    /usr/local/lib/python3.10/dist-packages/torchvision.libs/libjpeg.ceea7512.so.62\n",
            "    /usr/local/lib/python3.10/dist-packages/torchvision.libs/libnvjpeg.f00ca762.so.12\n",
            "    /usr/local/lib/python3.10/dist-packages/torchvision.libs/libpng16.7f72a3c5.so.16\n",
            "    /usr/local/lib/python3.10/dist-packages/torchvision.libs/libz.9f4d4772.so.1\n",
            "    /usr/local/lib/python3.10/dist-packages/torchvision/*\n",
            "Proceed (Y/n)? Y\n",
            "  Successfully uninstalled torchvision-0.17.2\n",
            "Found existing installation: torchaudio 2.2.2\n",
            "Uninstalling torchaudio-2.2.2:\n",
            "  Would remove:\n",
            "    /usr/local/lib/python3.10/dist-packages/torchaudio-2.2.2.dist-info/*\n",
            "    /usr/local/lib/python3.10/dist-packages/torchaudio/*\n",
            "    /usr/local/lib/python3.10/dist-packages/torio/*\n",
            "Proceed (Y/n)? Y\n",
            "  Successfully uninstalled torchaudio-2.2.2\n",
            "Looking in indexes: https://download.pytorch.org/whl/cu118\n",
            "Collecting torch\n",
            "  Downloading https://download.pytorch.org/whl/cu118/torch-2.2.2%2Bcu118-cp310-cp310-linux_x86_64.whl (819.2 MB)\n",
            "\u001b[2K     \u001b[90m━━━━━━━━━━━━━━━━━━━━━━━━━━━━━━━━━━━━━━━━\u001b[0m \u001b[32m819.2/819.2 MB\u001b[0m \u001b[31m1.5 MB/s\u001b[0m eta \u001b[36m0:00:00\u001b[0m\n",
            "\u001b[?25hCollecting torchvision\n",
            "  Downloading https://download.pytorch.org/whl/cu118/torchvision-0.17.2%2Bcu118-cp310-cp310-linux_x86_64.whl (6.2 MB)\n",
            "\u001b[2K     \u001b[90m━━━━━━━━━━━━━━━━━━━━━━━━━━━━━━━━━━━━━━━━\u001b[0m \u001b[32m6.2/6.2 MB\u001b[0m \u001b[31m81.3 MB/s\u001b[0m eta \u001b[36m0:00:00\u001b[0m\n",
            "\u001b[?25hCollecting torchaudio\n",
            "  Downloading https://download.pytorch.org/whl/cu118/torchaudio-2.2.2%2Bcu118-cp310-cp310-linux_x86_64.whl (3.3 MB)\n",
            "\u001b[2K     \u001b[90m━━━━━━━━━━━━━━━━━━━━━━━━━━━━━━━━━━━━━━━━\u001b[0m \u001b[32m3.3/3.3 MB\u001b[0m \u001b[31m81.4 MB/s\u001b[0m eta \u001b[36m0:00:00\u001b[0m\n",
            "\u001b[?25hRequirement already satisfied: filelock in /usr/local/lib/python3.10/dist-packages (from torch) (3.13.3)\n",
            "Requirement already satisfied: typing-extensions>=4.8.0 in /usr/local/lib/python3.10/dist-packages (from torch) (4.10.0)\n",
            "Requirement already satisfied: sympy in /usr/local/lib/python3.10/dist-packages (from torch) (1.12)\n",
            "Requirement already satisfied: networkx in /usr/local/lib/python3.10/dist-packages (from torch) (3.2.1)\n",
            "Requirement already satisfied: jinja2 in /usr/local/lib/python3.10/dist-packages (from torch) (3.1.3)\n",
            "Requirement already satisfied: fsspec in /usr/local/lib/python3.10/dist-packages (from torch) (2023.6.0)\n",
            "Collecting nvidia-cuda-nvrtc-cu11==11.8.89 (from torch)\n",
            "  Downloading https://download.pytorch.org/whl/cu118/nvidia_cuda_nvrtc_cu11-11.8.89-py3-none-manylinux1_x86_64.whl (23.2 MB)\n",
            "\u001b[2K     \u001b[90m━━━━━━━━━━━━━━━━━━━━━━━━━━━━━━━━━━━━━━━━\u001b[0m \u001b[32m23.2/23.2 MB\u001b[0m \u001b[31m56.7 MB/s\u001b[0m eta \u001b[36m0:00:00\u001b[0m\n",
            "\u001b[?25hCollecting nvidia-cuda-runtime-cu11==11.8.89 (from torch)\n",
            "  Downloading https://download.pytorch.org/whl/cu118/nvidia_cuda_runtime_cu11-11.8.89-py3-none-manylinux1_x86_64.whl (875 kB)\n",
            "\u001b[2K     \u001b[90m━━━━━━━━━━━━━━━━━━━━━━━━━━━━━━━━━━━━━━━━\u001b[0m \u001b[32m875.6/875.6 kB\u001b[0m \u001b[31m55.8 MB/s\u001b[0m eta \u001b[36m0:00:00\u001b[0m\n",
            "\u001b[?25hCollecting nvidia-cuda-cupti-cu11==11.8.87 (from torch)\n",
            "  Downloading https://download.pytorch.org/whl/cu118/nvidia_cuda_cupti_cu11-11.8.87-py3-none-manylinux1_x86_64.whl (13.1 MB)\n",
            "\u001b[2K     \u001b[90m━━━━━━━━━━━━━━━━━━━━━━━━━━━━━━━━━━━━━━━━\u001b[0m \u001b[32m13.1/13.1 MB\u001b[0m \u001b[31m73.8 MB/s\u001b[0m eta \u001b[36m0:00:00\u001b[0m\n",
            "\u001b[?25hCollecting nvidia-cudnn-cu11==8.7.0.84 (from torch)\n",
            "  Downloading https://download.pytorch.org/whl/cu118/nvidia_cudnn_cu11-8.7.0.84-py3-none-manylinux1_x86_64.whl (728.5 MB)\n",
            "\u001b[2K     \u001b[90m━━━━━━━━━━━━━━━━━━━━━━━━━━━━━━━━━━━━━━━━\u001b[0m \u001b[32m728.5/728.5 MB\u001b[0m \u001b[31m1.6 MB/s\u001b[0m eta \u001b[36m0:00:00\u001b[0m\n",
            "\u001b[?25hCollecting nvidia-cublas-cu11==11.11.3.6 (from torch)\n",
            "  Downloading https://download.pytorch.org/whl/cu118/nvidia_cublas_cu11-11.11.3.6-py3-none-manylinux1_x86_64.whl (417.9 MB)\n",
            "\u001b[2K     \u001b[90m━━━━━━━━━━━━━━━━━━━━━━━━━━━━━━━━━━━━━━━━\u001b[0m \u001b[32m417.9/417.9 MB\u001b[0m \u001b[31m1.1 MB/s\u001b[0m eta \u001b[36m0:00:00\u001b[0m\n",
            "\u001b[?25hCollecting nvidia-cufft-cu11==10.9.0.58 (from torch)\n",
            "  Downloading https://download.pytorch.org/whl/cu118/nvidia_cufft_cu11-10.9.0.58-py3-none-manylinux1_x86_64.whl (168.4 MB)\n",
            "\u001b[2K     \u001b[90m━━━━━━━━━━━━━━━━━━━━━━━━━━━━━━━━━━━━━━━━\u001b[0m \u001b[32m168.4/168.4 MB\u001b[0m \u001b[31m6.7 MB/s\u001b[0m eta \u001b[36m0:00:00\u001b[0m\n",
            "\u001b[?25hCollecting nvidia-curand-cu11==10.3.0.86 (from torch)\n",
            "  Downloading https://download.pytorch.org/whl/cu118/nvidia_curand_cu11-10.3.0.86-py3-none-manylinux1_x86_64.whl (58.1 MB)\n",
            "\u001b[2K     \u001b[90m━━━━━━━━━━━━━━━━━━━━━━━━━━━━━━━━━━━━━━━━\u001b[0m \u001b[32m58.1/58.1 MB\u001b[0m \u001b[31m10.3 MB/s\u001b[0m eta \u001b[36m0:00:00\u001b[0m\n",
            "\u001b[?25hCollecting nvidia-cusolver-cu11==11.4.1.48 (from torch)\n",
            "  Downloading https://download.pytorch.org/whl/cu118/nvidia_cusolver_cu11-11.4.1.48-py3-none-manylinux1_x86_64.whl (128.2 MB)\n",
            "\u001b[2K     \u001b[90m━━━━━━━━━━━━━━━━━━━━━━━━━━━━━━━━━━━━━━━━\u001b[0m \u001b[32m128.2/128.2 MB\u001b[0m \u001b[31m6.1 MB/s\u001b[0m eta \u001b[36m0:00:00\u001b[0m\n",
            "\u001b[?25hCollecting nvidia-cusparse-cu11==11.7.5.86 (from torch)\n",
            "  Downloading https://download.pytorch.org/whl/cu118/nvidia_cusparse_cu11-11.7.5.86-py3-none-manylinux1_x86_64.whl (204.1 MB)\n",
            "\u001b[2K     \u001b[90m━━━━━━━━━━━━━━━━━━━━━━━━━━━━━━━━━━━━━━━━\u001b[0m \u001b[32m204.1/204.1 MB\u001b[0m \u001b[31m3.3 MB/s\u001b[0m eta \u001b[36m0:00:00\u001b[0m\n",
            "\u001b[?25hCollecting nvidia-nccl-cu11==2.19.3 (from torch)\n",
            "  Downloading https://download.pytorch.org/whl/cu118/nvidia_nccl_cu11-2.19.3-py3-none-manylinux1_x86_64.whl (135.3 MB)\n",
            "\u001b[2K     \u001b[90m━━━━━━━━━━━━━━━━━━━━━━━━━━━━━━━━━━━━━━━━\u001b[0m \u001b[32m135.3/135.3 MB\u001b[0m \u001b[31m8.2 MB/s\u001b[0m eta \u001b[36m0:00:00\u001b[0m\n",
            "\u001b[?25hCollecting nvidia-nvtx-cu11==11.8.86 (from torch)\n",
            "  Downloading https://download.pytorch.org/whl/cu118/nvidia_nvtx_cu11-11.8.86-py3-none-manylinux1_x86_64.whl (99 kB)\n",
            "\u001b[2K     \u001b[90m━━━━━━━━━━━━━━━━━━━━━━━━━━━━━━━━━━━━━━━━\u001b[0m \u001b[32m99.1/99.1 kB\u001b[0m \u001b[31m12.3 MB/s\u001b[0m eta \u001b[36m0:00:00\u001b[0m\n",
            "\u001b[?25hRequirement already satisfied: triton==2.2.0 in /usr/local/lib/python3.10/dist-packages (from torch) (2.2.0)\n",
            "Requirement already satisfied: numpy in /usr/local/lib/python3.10/dist-packages (from torchvision) (1.25.2)\n",
            "Requirement already satisfied: pillow!=8.3.*,>=5.3.0 in /usr/local/lib/python3.10/dist-packages (from torchvision) (9.4.0)\n",
            "Requirement already satisfied: MarkupSafe>=2.0 in /usr/local/lib/python3.10/dist-packages (from jinja2->torch) (2.1.5)\n",
            "Requirement already satisfied: mpmath>=0.19 in /usr/local/lib/python3.10/dist-packages (from sympy->torch) (1.3.0)\n",
            "Installing collected packages: nvidia-nvtx-cu11, nvidia-nccl-cu11, nvidia-cusparse-cu11, nvidia-curand-cu11, nvidia-cufft-cu11, nvidia-cuda-runtime-cu11, nvidia-cuda-nvrtc-cu11, nvidia-cuda-cupti-cu11, nvidia-cublas-cu11, nvidia-cusolver-cu11, nvidia-cudnn-cu11, torch, torchvision, torchaudio\n",
            "\u001b[31mERROR: pip's dependency resolver does not currently take into account all the packages that are installed. This behaviour is the source of the following dependency conflicts.\n",
            "torchtext 0.17.1 requires torch==2.2.1, but you have torch 2.2.2+cu118 which is incompatible.\u001b[0m\u001b[31m\n",
            "\u001b[0mSuccessfully installed nvidia-cublas-cu11-11.11.3.6 nvidia-cuda-cupti-cu11-11.8.87 nvidia-cuda-nvrtc-cu11-11.8.89 nvidia-cuda-runtime-cu11-11.8.89 nvidia-cudnn-cu11-8.7.0.84 nvidia-cufft-cu11-10.9.0.58 nvidia-curand-cu11-10.3.0.86 nvidia-cusolver-cu11-11.4.1.48 nvidia-cusparse-cu11-11.7.5.86 nvidia-nccl-cu11-2.19.3 nvidia-nvtx-cu11-11.8.86 torch-2.2.2+cu118 torchaudio-2.2.2+cu118 torchvision-0.17.2+cu118\n"
          ]
        },
        {
          "output_type": "display_data",
          "data": {
            "application/vnd.colab-display-data+json": {
              "pip_warning": {
                "packages": [
                  "torch",
                  "torchgen"
                ]
              },
              "id": "68ef5e4a80884580ab8c0bcde5e25c49"
            }
          },
          "metadata": {}
        }
      ]
    },
    {
      "cell_type": "markdown",
      "source": [
        "Then, we install the PyG library by running the following code."
      ],
      "metadata": {
        "id": "PcFbo5jPoESZ"
      }
    },
    {
      "cell_type": "code",
      "source": [
        "!pip install torch_geometric"
      ],
      "metadata": {
        "colab": {
          "base_uri": "https://localhost:8080/"
        },
        "id": "01EbBevWe_vf",
        "outputId": "11df32dd-42c7-4214-b658-162e3e03f250"
      },
      "execution_count": 2,
      "outputs": [
        {
          "output_type": "stream",
          "name": "stdout",
          "text": [
            "Collecting torch_geometric\n",
            "  Using cached torch_geometric-2.5.2-py3-none-any.whl (1.1 MB)\n",
            "Requirement already satisfied: tqdm in /usr/local/lib/python3.10/dist-packages (from torch_geometric) (4.66.2)\n",
            "Requirement already satisfied: numpy in /usr/local/lib/python3.10/dist-packages (from torch_geometric) (1.25.2)\n",
            "Requirement already satisfied: scipy in /usr/local/lib/python3.10/dist-packages (from torch_geometric) (1.11.4)\n",
            "Requirement already satisfied: fsspec in /usr/local/lib/python3.10/dist-packages (from torch_geometric) (2023.6.0)\n",
            "Requirement already satisfied: jinja2 in /usr/local/lib/python3.10/dist-packages (from torch_geometric) (3.1.3)\n",
            "Requirement already satisfied: aiohttp in /usr/local/lib/python3.10/dist-packages (from torch_geometric) (3.9.3)\n",
            "Requirement already satisfied: requests in /usr/local/lib/python3.10/dist-packages (from torch_geometric) (2.31.0)\n",
            "Requirement already satisfied: pyparsing in /usr/local/lib/python3.10/dist-packages (from torch_geometric) (3.1.2)\n",
            "Requirement already satisfied: scikit-learn in /usr/local/lib/python3.10/dist-packages (from torch_geometric) (1.2.2)\n",
            "Requirement already satisfied: psutil>=5.8.0 in /usr/local/lib/python3.10/dist-packages (from torch_geometric) (5.9.5)\n",
            "Requirement already satisfied: aiosignal>=1.1.2 in /usr/local/lib/python3.10/dist-packages (from aiohttp->torch_geometric) (1.3.1)\n",
            "Requirement already satisfied: attrs>=17.3.0 in /usr/local/lib/python3.10/dist-packages (from aiohttp->torch_geometric) (23.2.0)\n",
            "Requirement already satisfied: frozenlist>=1.1.1 in /usr/local/lib/python3.10/dist-packages (from aiohttp->torch_geometric) (1.4.1)\n",
            "Requirement already satisfied: multidict<7.0,>=4.5 in /usr/local/lib/python3.10/dist-packages (from aiohttp->torch_geometric) (6.0.5)\n",
            "Requirement already satisfied: yarl<2.0,>=1.0 in /usr/local/lib/python3.10/dist-packages (from aiohttp->torch_geometric) (1.9.4)\n",
            "Requirement already satisfied: async-timeout<5.0,>=4.0 in /usr/local/lib/python3.10/dist-packages (from aiohttp->torch_geometric) (4.0.3)\n",
            "Requirement already satisfied: MarkupSafe>=2.0 in /usr/local/lib/python3.10/dist-packages (from jinja2->torch_geometric) (2.1.5)\n",
            "Requirement already satisfied: charset-normalizer<4,>=2 in /usr/local/lib/python3.10/dist-packages (from requests->torch_geometric) (3.3.2)\n",
            "Requirement already satisfied: idna<4,>=2.5 in /usr/local/lib/python3.10/dist-packages (from requests->torch_geometric) (3.6)\n",
            "Requirement already satisfied: urllib3<3,>=1.21.1 in /usr/local/lib/python3.10/dist-packages (from requests->torch_geometric) (2.0.7)\n",
            "Requirement already satisfied: certifi>=2017.4.17 in /usr/local/lib/python3.10/dist-packages (from requests->torch_geometric) (2024.2.2)\n",
            "Requirement already satisfied: joblib>=1.1.1 in /usr/local/lib/python3.10/dist-packages (from scikit-learn->torch_geometric) (1.3.2)\n",
            "Requirement already satisfied: threadpoolctl>=2.0.0 in /usr/local/lib/python3.10/dist-packages (from scikit-learn->torch_geometric) (3.4.0)\n",
            "Installing collected packages: torch_geometric\n",
            "Successfully installed torch_geometric-2.5.2\n"
          ]
        }
      ]
    },
    {
      "cell_type": "markdown",
      "source": [
        "Finally, let's import them and see if everything runs smoothly."
      ],
      "metadata": {
        "id": "3rtiWui6oM9T"
      }
    },
    {
      "cell_type": "code",
      "source": [
        "import torch\n",
        "import torch_geometric\n",
        "torch.manual_seed(596)"
      ],
      "metadata": {
        "colab": {
          "base_uri": "https://localhost:8080/"
        },
        "id": "YmQAQJgZfHAt",
        "outputId": "86906855-e747-4953-c9fe-c71ad7c7bc71"
      },
      "execution_count": 3,
      "outputs": [
        {
          "output_type": "execute_result",
          "data": {
            "text/plain": [
              "<torch._C.Generator at 0x7a6ca97e6e90>"
            ]
          },
          "metadata": {},
          "execution_count": 3
        }
      ]
    },
    {
      "cell_type": "markdown",
      "source": [
        "# Data Inspection\n",
        "The data is [Cora](https://relational.fit.cvut.cz/dataset/CORA), one of the benchmark datasets for graph learning. The dataset is already embedded in the PyG library. We can download and process it by directly running the following. Note that the PyG library has many [embeded dataset](https://pytorch-geometric.readthedocs.io/en/latest/notes/data_cheatsheet.html). You can always load the others using the similar coding."
      ],
      "metadata": {
        "id": "m1qZL8FmocGO"
      }
    },
    {
      "cell_type": "code",
      "source": [
        "planetoid = torch_geometric.datasets.Planetoid(root='/tmp/Cora', name='Cora')\n",
        "data = planetoid[0]"
      ],
      "metadata": {
        "id": "SHLDvee6perT",
        "colab": {
          "base_uri": "https://localhost:8080/"
        },
        "outputId": "b1128b30-c3bb-460d-e377-544a84c9c947"
      },
      "execution_count": 4,
      "outputs": [
        {
          "output_type": "stream",
          "name": "stderr",
          "text": [
            "Downloading https://github.com/kimiyoung/planetoid/raw/master/data/ind.cora.x\n",
            "Downloading https://github.com/kimiyoung/planetoid/raw/master/data/ind.cora.tx\n",
            "Downloading https://github.com/kimiyoung/planetoid/raw/master/data/ind.cora.allx\n",
            "Downloading https://github.com/kimiyoung/planetoid/raw/master/data/ind.cora.y\n",
            "Downloading https://github.com/kimiyoung/planetoid/raw/master/data/ind.cora.ty\n",
            "Downloading https://github.com/kimiyoung/planetoid/raw/master/data/ind.cora.ally\n",
            "Downloading https://github.com/kimiyoung/planetoid/raw/master/data/ind.cora.graph\n",
            "Downloading https://github.com/kimiyoung/planetoid/raw/master/data/ind.cora.test.index\n",
            "Processing...\n",
            "Done!\n"
          ]
        }
      ]
    },
    {
      "cell_type": "markdown",
      "source": [
        "Here, we define 'planetoid' as the collector of data, and 'data' as data we use for modeling. The 'planetoid' stores meta attributes such as number of features and number of label classes. The 'data' object on the other hand stores and specific data itself, as the following."
      ],
      "metadata": {
        "id": "oRBOMVPFqqtn"
      }
    },
    {
      "cell_type": "markdown",
      "source": [
        "![image.png](data:image/png;base64,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)"
      ],
      "metadata": {
        "id": "oNhzmml9qdfF"
      }
    },
    {
      "cell_type": "code",
      "source": [
        "data"
      ],
      "metadata": {
        "colab": {
          "base_uri": "https://localhost:8080/"
        },
        "id": "N-vBKBCPrCi1",
        "outputId": "06215493-c41b-41e4-bd02-8b7771de82b0"
      },
      "execution_count": 5,
      "outputs": [
        {
          "output_type": "execute_result",
          "data": {
            "text/plain": [
              "Data(x=[2708, 1433], edge_index=[2, 10556], y=[2708], train_mask=[2708], val_mask=[2708], test_mask=[2708])"
            ]
          },
          "metadata": {},
          "execution_count": 5
        }
      ]
    },
    {
      "cell_type": "code",
      "source": [
        "data.y"
      ],
      "metadata": {
        "colab": {
          "base_uri": "https://localhost:8080/"
        },
        "id": "ZOCqnCrdr2Pv",
        "outputId": "df8415cc-6fe2-43cf-b0c7-a402ec6131c0"
      },
      "execution_count": 6,
      "outputs": [
        {
          "output_type": "execute_result",
          "data": {
            "text/plain": [
              "tensor([3, 4, 4,  ..., 3, 3, 3])"
            ]
          },
          "metadata": {},
          "execution_count": 6
        }
      ]
    },
    {
      "cell_type": "markdown",
      "source": [
        "# GCN\n",
        "In this section, we implement a GCN model for node classification and link prediction problem."
      ],
      "metadata": {
        "id": "ZPqLpRysr8J5"
      }
    },
    {
      "cell_type": "markdown",
      "source": [
        "## Node Classification\n",
        "Let's define a two-layer GCN for the node classification task. Note that the GCN layer used here is not the original vanilla GCN layer. It's an evolved version where the message passing mechanism is more advanced. Nevertheless, they are very similar from a high-level understanding. Please find the details regarding this GCN layer in the following paper [Semi-Supervised Classification with Graph Convolutional Networks](https://arxiv.org/abs/1609.02907).\n",
        "\n",
        "For the first layer, the input dimension will be the same as the feature dimension of the node features; the output dimension will be the dimension for the hidden representation, which is specified as 16 here. The output is further processed by a ReLU activation function.\n",
        "\n",
        "For the second layer, the input dimension is 16, same as the dimension of the hidden representation; The output dimension is the number of label classes. The output is further processed by a log Softmax activation function so that the output is scaled into a probability score for each class label.\n",
        "\n",
        "Note that the GCNConv() function has two input: input features and the edge index. The edge index will tell the model how the information (input features) communicate on the graph structure."
      ],
      "metadata": {
        "id": "5X9AF9fDsSB-"
      }
    },
    {
      "cell_type": "code",
      "source": [
        "class GCN(torch.nn.Module):\n",
        "    def __init__(self, dataset):\n",
        "        super().__init__()\n",
        "        self.conv1 = torch_geometric.nn.GCNConv(dataset.num_node_features, 16)\n",
        "        self.conv2 = torch_geometric.nn.GCNConv(16, dataset.num_classes)\n",
        "\n",
        "    def forward(self, data):\n",
        "        x, edge_index = data.x, data.edge_index\n",
        "\n",
        "        x = self.conv1(x, edge_index)\n",
        "        x = torch.nn.functional.relu(x)\n",
        "        x = self.conv2(x, edge_index)\n",
        "        x = torch.nn.functional.log_softmax(x, dim=1)\n",
        "        return x"
      ],
      "metadata": {
        "id": "VQPo5fPwr7nb"
      },
      "execution_count": 14,
      "outputs": []
    },
    {
      "cell_type": "markdown",
      "source": [
        "Next, we train our model based on the training data. First let's set up some training environment. We use Adam as the optimizer here. The learning rate is 0.01, and we also specify the L2 penalty with weight 5e-4."
      ],
      "metadata": {
        "id": "g2Wn045FvmzV"
      }
    },
    {
      "cell_type": "code",
      "source": [
        "device = torch.device('cuda' if torch.cuda.is_available() else 'cpu')\n",
        "data = data.to(device)\n",
        "model = GCN(planetoid).to(device)\n",
        "optimizer = torch.optim.Adam(model.parameters(), lr=0.01, weight_decay=5e-4)"
      ],
      "metadata": {
        "id": "gMATz6JTv0qK"
      },
      "execution_count": 8,
      "outputs": []
    },
    {
      "cell_type": "markdown",
      "source": [
        "We train the model with 200 epochs. The gradient is calculated with respect to the [negative log likelihood loss](https://pytorch.org/docs/stable/generated/torch.nn.NLLLoss.html) function. Note that we only use the labels in the training mask to train the model."
      ],
      "metadata": {
        "id": "yu8tPILVyOmN"
      }
    },
    {
      "cell_type": "code",
      "source": [
        "for epoch in range(200):\n",
        "    optimizer.zero_grad()\n",
        "    out = model(data)\n",
        "    loss = torch.nn.functional.nll_loss(out[data.train_mask], data.y[data.train_mask])\n",
        "    loss.backward()\n",
        "    optimizer.step()"
      ],
      "metadata": {
        "id": "S-ESx1MewEce"
      },
      "execution_count": 9,
      "outputs": []
    },
    {
      "cell_type": "markdown",
      "source": [
        "Next, we evaluate the model on the testing side."
      ],
      "metadata": {
        "id": "tX5NIwK8ytcO"
      }
    },
    {
      "cell_type": "code",
      "source": [
        "pred = model(data).argmax(dim=1)\n",
        "correct = (pred[data.test_mask] == data.y[data.test_mask]).sum()\n",
        "acc = int(correct) / int(data.test_mask.sum())\n",
        "print(f'Accuracy: {acc:.4f}')"
      ],
      "metadata": {
        "colab": {
          "base_uri": "https://localhost:8080/"
        },
        "id": "lvYpP3MHzWEw",
        "outputId": "b661dbe0-dea1-435f-b8ee-08191f891a40"
      },
      "execution_count": 10,
      "outputs": [
        {
          "output_type": "stream",
          "name": "stdout",
          "text": [
            "Accuracy: 0.8090\n"
          ]
        }
      ]
    },
    {
      "cell_type": "markdown",
      "source": [
        "## Link Prediction\n",
        "\n",
        "\n",
        "\n"
      ],
      "metadata": {
        "id": "du9nePUOzkqq"
      }
    },
    {
      "cell_type": "markdown",
      "source": [
        "For the link prediction task, things are a little bit more complicated. Because when we are dealing with node classification task, we would assume we can observe the information of node labels and train on them. Therefore the model is learned in a supervised fashion. However, in the link prediction task, we usually don't assume that we can observe the node labels (even if we do, we will call the node labels as external information). Therefore the model is learned in a self-supervised fashion in the link prediction task ---- all the information is from the graph structure itself and node features.\n",
        "\n",
        "More specifically, if we want to map the link prediction task into a classification task, we will have to learn the model based on edges. In other words, the respones variable is a binary variable for each potential edge where 1 means the edge exists in graph and 0 means it doesn't. Since every pair of nodes form a potential edge, we will have N x N combinations and therefore N x N number of response variable.\n",
        "\n",
        "We certainlly can directly learn on those N x N number of response variables as a classification task. However, it's pratically infeasible because:\n",
        "\n",
        "1.   The binary response variable is imbalance. (Too many 0 when graph is sparse).\n",
        "2.   Too many response variable. When the graph is large, there are too many potential edges to enumerate.\n",
        "\n",
        "To tackle those issue, we usually introduce negative sampling technique (similar to [word2vec](https://stackoverflow.com/questions/27860652/word2vec-negative-sampling-in-layman-term) and other NLP models) for link prediction. In a word, for each existing edge in the graph (positive sample), we sample a non-existing counterpart (negative sample) to contrast with. For each epoch, the negative sample is created by randomly replacing a node in each positive sample. The classification loss function (BCELoss in our case) will be computed where the positive samples have response 1 and the negative samples have response 0. Then, the model is tuned wrt. the loss function.\n",
        "\n",
        "Note that we avoid enumerating all possible edges by this technique. Theory also has been proved that the negative sampling technique eventually works the same as enumerating all possible edges and do classification.\n",
        "\n",
        "For the model architecture, the graph layers are composed of two GCN layer with ReLU activision. After the second layer, the hidden representation on the nodes have dimension 12. The edges representation are the concatenation of the two nodes, therefore they have the dimension 24. Further, the edges representation will passed on two linear layer with ReLU for the first layer and sigmoid activision for the seond.\n",
        "\n",
        "The forward function of the GCN class return two outputs: the first one is the predicted probability of positive edges and the second one is the predicted probability of negative edges. Note that for each epoch, the negative edges are newly generated."
      ],
      "metadata": {
        "id": "asyYbt5hJeTW"
      }
    },
    {
      "cell_type": "code",
      "source": [
        "class GCN(torch.nn.Module):\n",
        "    def __init__(self, dataset):\n",
        "        super().__init__()\n",
        "        self.conv1 = torch_geometric.nn.GCNConv(dataset.num_node_features, 16)\n",
        "        self.conv2 = torch_geometric.nn.GCNConv(16, 12)\n",
        "        self.linear1 = torch.nn.Linear(24, 24)\n",
        "        self.linear2 = torch.nn.Linear(24, 1)\n",
        "\n",
        "    def forward(self, x, train_edge_index, pred_edge_index):\n",
        "        x = self.conv1(x, train_edge_index)\n",
        "        x = torch.nn.functional.relu(x)\n",
        "        x = self.conv2(x, train_edge_index)\n",
        "        x = torch.nn.functional.relu(x)\n",
        "\n",
        "        x_positive = torch.cat((x[pred_edge_index[0,:],:],\n",
        "                                x[pred_edge_index[1,:],:]), dim=1)\n",
        "        x_positive = self.linear1(x_positive)\n",
        "        x_positive = torch.nn.functional.relu(x_positive)\n",
        "        x_positive = self.linear2(x_positive)\n",
        "        x_positive = torch.sigmoid(x_positive)\n",
        "\n",
        "        x_negative = torch.cat((x[torch.randint(high = x.shape[0], size = (pred_edge_index.shape[1],)),:],\n",
        "                                x[pred_edge_index[1,:],:]), dim=1)\n",
        "        x_negative = self.linear1(x_negative)\n",
        "        x_negative = torch.nn.functional.relu(x_negative)\n",
        "        x_negative = self.linear2(x_negative)\n",
        "        x_negative = torch.sigmoid(x_negative)\n",
        "        return x_positive.squeeze(), x_negative.squeeze()"
      ],
      "metadata": {
        "id": "aHcZJKBzz9ey"
      },
      "execution_count": 15,
      "outputs": []
    },
    {
      "cell_type": "markdown",
      "source": [
        "Note that the forward function in the GCN() class have three inputs:\n",
        "1.   x: the node features.\n",
        "2.   train_edge_index: the edges we can observe for message passing.\n",
        "3.   pred_edge_index: the edges we want to predict on.\n",
        "\n",
        "For training stage, we specify 'train_edge_index' the same as 'pred_edge_index', because the edges for message passing and prediction are the same. For testing stage, the 'train_edge_index' will be the observed edges, and the 'pred_edge_index' will be the unobserved edges we want to evaluate the model on. Therefore those two arguments will be different.\n",
        "\n",
        "After defining the architecture, we split all the edges with 0.8 training ratio. In other word, we only assume we can observe 80% of all the edges for training (message passing and fitting). We employ [BCELoss](https://pytorch.org/docs/stable/generated/torch.nn.BCELoss.html) as the loss function."
      ],
      "metadata": {
        "id": "syydW9FBda6Y"
      }
    },
    {
      "cell_type": "code",
      "source": [
        "device = torch.device('cuda' if torch.cuda.is_available() else 'cpu')\n",
        "data = data.to(device)\n",
        "train_size = round(0.8*data.edge_index.shape[1])\n",
        "model = GCN(planetoid).to(device)\n",
        "loss_fn = torch.nn.BCELoss()\n",
        "optimizer = torch.optim.Adam(model.parameters(), lr=0.01, weight_decay=5e-4)"
      ],
      "metadata": {
        "id": "tl8Wg2aH03NZ"
      },
      "execution_count": 16,
      "outputs": []
    },
    {
      "cell_type": "markdown",
      "source": [
        "The model is trained with 200 epochs. For each epoch, the target is the vector $y$:\n",
        "\n",
        "\\begin{align}\n",
        "    y = [1,\\dots,1,0,\\dots,0]^T \\notag\n",
        "\\end{align}\n",
        "\n",
        "The target vector $y$ has length two times the training size, where the first half (ones) is the response variable for positive edges and the second half (zeros) is the response variable for negative edges."
      ],
      "metadata": {
        "id": "UTsscSevdpBA"
      }
    },
    {
      "cell_type": "code",
      "source": [
        "for epoch in range(200):\n",
        "    optimizer.zero_grad()\n",
        "    target = torch.concat((torch.ones((train_size,), device = device), torch.zeros((train_size,), device = device)))\n",
        "\n",
        "    out = model(data.x,\n",
        "                data.edge_index[:, :train_size],\n",
        "                data.edge_index[:, :train_size])\n",
        "    pred = torch.concat(out)\n",
        "    loss = loss_fn(pred, target)\n",
        "    loss.backward()\n",
        "    optimizer.step()"
      ],
      "metadata": {
        "id": "C30_WqgY05HW"
      },
      "execution_count": 17,
      "outputs": []
    },
    {
      "cell_type": "markdown",
      "source": [
        "After training, we evaluate the model on the test side. We use [recall](https://en.wikipedia.org/wiki/Precision_and_recall) as the evaluation metric."
      ],
      "metadata": {
        "id": "J8bQc5TgfLdE"
      }
    },
    {
      "cell_type": "code",
      "source": [
        "pred = model(data.x,\n",
        "             data.edge_index[:, :train_size],\n",
        "             data.edge_index[:, train_size:])[0]\n",
        "correct = (pred >= 0.5).sum()\n",
        "recall = int(correct) / (data.edge_index.shape[1] - train_size)\n",
        "print(f'Recall: {recall:.4f}')"
      ],
      "metadata": {
        "colab": {
          "base_uri": "https://localhost:8080/"
        },
        "id": "IJEeEnl2BzJ4",
        "outputId": "08b66ef0-95fc-4c32-c133-1274dcffe806"
      },
      "execution_count": 18,
      "outputs": [
        {
          "output_type": "stream",
          "name": "stdout",
          "text": [
            "Recall: 0.8333\n"
          ]
        }
      ]
    },
    {
      "cell_type": "markdown",
      "source": [
        "# GraphSage\n",
        "\n",
        "Similarly, we implement the GraphSage model. The setting and tasks are the same as in the GCN case."
      ],
      "metadata": {
        "id": "zA7WZlhmfp_t"
      }
    },
    {
      "cell_type": "markdown",
      "source": [
        "## Node Classification\n",
        "\n",
        "Here, the only difference comparing to the node classification in GCN case is the graph learning layer: we change from GCN to GraphSage."
      ],
      "metadata": {
        "id": "rybDOyX9f0Pv"
      }
    },
    {
      "cell_type": "code",
      "source": [
        "class GraphSage(torch.nn.Module):\n",
        "    def __init__(self, dataset):\n",
        "        super().__init__()\n",
        "        self.conv1 = torch_geometric.nn.SAGEConv(dataset.num_node_features, 16)\n",
        "        self.conv2 = torch_geometric.nn.SAGEConv(16, dataset.num_classes)\n",
        "\n",
        "    def forward(self, data):\n",
        "        x, edge_index = data.x, data.edge_index\n",
        "\n",
        "        x = self.conv1(x, edge_index)\n",
        "        x = torch.nn.functional.relu(x)\n",
        "        x = self.conv2(x, edge_index)\n",
        "        x = torch.nn.functional.log_softmax(x, dim=1)\n",
        "        return x\n",
        "\n",
        "device = torch.device('cuda' if torch.cuda.is_available() else 'cpu')\n",
        "data = data.to(device)\n",
        "model = GraphSage(planetoid).to(device)\n",
        "optimizer = torch.optim.Adam(model.parameters(), lr=0.01, weight_decay=5e-4)\n",
        "\n",
        "for epoch in range(200):\n",
        "    optimizer.zero_grad()\n",
        "    out = model(data)\n",
        "    loss = torch.nn.functional.nll_loss(out[data.train_mask], data.y[data.train_mask])\n",
        "    loss.backward()\n",
        "    optimizer.step()\n",
        "\n",
        "pred = model(data).argmax(dim=1)\n",
        "correct = (pred[data.test_mask] == data.y[data.test_mask]).sum()\n",
        "acc = int(correct) / int(data.test_mask.sum())\n",
        "print(f'Accuracy: {acc:.4f}')"
      ],
      "metadata": {
        "colab": {
          "base_uri": "https://localhost:8080/"
        },
        "id": "fRi2gJ_mf7qC",
        "outputId": "49eb6903-3ee9-4710-9b63-adba9e93f680"
      },
      "execution_count": null,
      "outputs": [
        {
          "output_type": "stream",
          "name": "stdout",
          "text": [
            "Accuracy: 0.7950\n"
          ]
        }
      ]
    },
    {
      "cell_type": "markdown",
      "source": [
        "## Link Prediction\n",
        "\n",
        "Similarly, we employ GraphSage for link prediction."
      ],
      "metadata": {
        "id": "nlidyF1bhM_U"
      }
    },
    {
      "cell_type": "code",
      "source": [
        "class GraphSage(torch.nn.Module):\n",
        "    def __init__(self, dataset):\n",
        "        super().__init__()\n",
        "        self.conv1 = torch_geometric.nn.SAGEConv(dataset.num_node_features, 16)\n",
        "        self.conv2 = torch_geometric.nn.SAGEConv(16, 12)\n",
        "        self.linear1 = torch.nn.Linear(24, 24)\n",
        "        self.linear2 = torch.nn.Linear(24, 1)\n",
        "\n",
        "    def forward(self, x, train_edge_index, pred_edge_index):\n",
        "        x = self.conv1(x, train_edge_index)\n",
        "        x = torch.nn.functional.relu(x)\n",
        "        x = self.conv2(x, train_edge_index)\n",
        "        x = torch.nn.functional.relu(x)\n",
        "\n",
        "        x_positive = torch.cat((x[pred_edge_index[0,:],:],\n",
        "                                x[pred_edge_index[1,:],:]), dim=1)\n",
        "        x_positive = self.linear1(x_positive)\n",
        "        x_positive = torch.nn.functional.relu(x_positive)\n",
        "        x_positive = self.linear2(x_positive)\n",
        "        x_positive = torch.sigmoid(x_positive)\n",
        "\n",
        "        x_negative = torch.cat((x[torch.randint(high = x.shape[0], size = (pred_edge_index.shape[1],)),:],\n",
        "                                x[pred_edge_index[1,:],:]), dim=1)\n",
        "        x_negative = self.linear1(x_negative)\n",
        "        x_negative = torch.nn.functional.relu(x_negative)\n",
        "        x_negative = self.linear2(x_negative)\n",
        "        x_negative = torch.sigmoid(x_negative)\n",
        "        return x_positive.squeeze(), x_negative.squeeze()\n",
        "\n",
        "device = torch.device('cuda' if torch.cuda.is_available() else 'cpu')\n",
        "data = data.to(device)\n",
        "train_size = round(0.8*data.edge_index.shape[1])\n",
        "model = GraphSage(planetoid).to(device)\n",
        "loss_fn = torch.nn.BCELoss()\n",
        "optimizer = torch.optim.Adam(model.parameters(), lr=0.01, weight_decay=5e-4)\n",
        "\n",
        "for epoch in range(200):\n",
        "    optimizer.zero_grad()\n",
        "    target = torch.concat((torch.ones((train_size,), device = device), torch.zeros((train_size,), device = device)))\n",
        "\n",
        "    out = model(data.x,\n",
        "                data.edge_index[:, :train_size],\n",
        "                data.edge_index[:, :train_size])\n",
        "    pred = torch.concat(out)\n",
        "    loss = loss_fn(pred, target)\n",
        "    loss.backward()\n",
        "    optimizer.step()\n",
        "\n",
        "pred = model(data.x,\n",
        "             data.edge_index[:, :train_size],\n",
        "             data.edge_index[:, train_size:])[0]\n",
        "correct = (pred >= 0.5).sum()\n",
        "recall = int(correct) / (data.edge_index.shape[1] - train_size)\n",
        "print(f'Recall: {recall:.4f}')"
      ],
      "metadata": {
        "colab": {
          "base_uri": "https://localhost:8080/"
        },
        "id": "Sd_Bh7rkgelU",
        "outputId": "c09e289d-3df0-40c7-ab4e-8236ae739e15"
      },
      "execution_count": null,
      "outputs": [
        {
          "output_type": "stream",
          "name": "stdout",
          "text": [
            "Recall: 0.5547\n"
          ]
        }
      ]
    },
    {
      "cell_type": "code",
      "source": [],
      "metadata": {
        "id": "nu2BdgQGOwRf"
      },
      "execution_count": null,
      "outputs": []
    }
  ],
  "metadata": {
    "colab": {
      "provenance": [],
      "toc_visible": true
    },
    "kernelspec": {
      "display_name": "Python 3",
      "name": "python3"
    },
    "language_info": {
      "name": "python"
    }
  },
  "nbformat": 4,
  "nbformat_minor": 0
}