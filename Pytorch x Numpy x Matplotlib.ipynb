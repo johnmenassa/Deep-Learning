{
  "cells": [
    {
      "cell_type": "markdown",
      "metadata": {
        "id": "_Mm_YV1RsMPF"
      },
      "source": [
        "# PyTorch Simple MLP Example"
      ]
    },
    {
      "cell_type": "markdown",
      "metadata": {
        "id": "xKRnMQjFslcH"
      },
      "source": [
        "The Iris data sets consists of 3 different types of irises’ (Setosa, Versicolour, and Virginica) petal and sepal length, stored in a 150x4 numpy.ndarray\n",
        "\n",
        "The rows being the samples and the columns being: Sepal Length, Sepal Width, Petal Length and Petal Width."
      ]
    },
    {
      "cell_type": "code",
      "execution_count": null,
      "metadata": {
        "id": "s35oAo5hr-Jv"
      },
      "outputs": [],
      "source": [
        "import numpy as np\n",
        "import pandas as pd\n",
        "import matplotlib.pyplot as plt\n",
        "import time\n",
        "\n",
        "plt.style.use('ggplot')\n",
        "%matplotlib inline"
      ]
    },
    {
      "cell_type": "code",
      "execution_count": 2,
      "metadata": {
        "id": "dhwYmDMGs3sC"
      },
      "outputs": [],
      "source": [
        "from sklearn.datasets import load_iris\n",
        "from sklearn.model_selection import train_test_split\n",
        "from sklearn.preprocessing import StandardScaler"
      ]
    },
    {
      "cell_type": "code",
      "execution_count": 3,
      "metadata": {
        "id": "31zsHEoTtPqx"
      },
      "outputs": [],
      "source": [
        "import torch\n",
        "import torch.nn.functional as F\n",
        "import torch.nn as nn\n",
        "from torch.autograd import Variable\n",
        "from torch.utils.data import Dataset, DataLoader\n",
        "import torch.optim as optim\n",
        "\n",
        "\n",
        "\n",
        "cuda = torch.cuda.is_available()\n",
        "num_workers = 2 if cuda else 0\n",
        "device = torch.device(\"cuda\" if cuda else \"cpu\")\n"
      ]
    },
    {
      "cell_type": "markdown",
      "metadata": {
        "id": "2L1CttKNvKGj"
      },
      "source": [
        "## Data Preperation\n",
        "To prepare the data, we will use a StandardScaler to remove the mean and scale the features to unit variance. Finally we want to perform a train test split to compare our results later on."
      ]
    },
    {
      "cell_type": "code",
      "execution_count": 4,
      "metadata": {
        "id": "O9fXKNu_tCfx"
      },
      "outputs": [],
      "source": [
        "iris = load_iris()\n",
        "X = iris['data']\n",
        "y = iris['target']\n",
        "names = iris['target_names']\n",
        "feature_names = iris['feature_names']\n",
        "\n",
        "# Scale data to have mean 0 and variance 1 \n",
        "# which is importance for convergence of the neural network\n",
        "scaler = StandardScaler()\n",
        "X_scaled = scaler.fit_transform(X)\n",
        "\n",
        "# Split the data set into training and testing\n",
        "X_train, X_test, y_train, y_test = train_test_split(\n",
        "    X_scaled, y, test_size=0.2, random_state=2)"
      ]
    },
    {
      "cell_type": "markdown",
      "metadata": {
        "id": "moPt_aNOv13Y"
      },
      "source": [
        "# Datasets & Dataloaders\n",
        "Code for processing data samples can get messy and hard to maintain; we ideally want our dataset code to be decoupled from our model training code for better readability and modularity. PyTorch provides two data primitives: torch.utils.data.DataLoader and torch.utils.data.Dataset that allow you to use pre-loaded datasets as well as your own data. Dataset stores the samples and their corresponding labels, and DataLoader wraps an iterable around the Dataset to enable easy access to the samples."
      ]
    },
    {
      "cell_type": "markdown",
      "metadata": {
        "id": "VC46VgfnvP8d"
      },
      "source": [
        "## Define Dataset\n",
        "We need to define the structure of our training and testing set, inorder to feed it into the DataLoader."
      ]
    },
    {
      "cell_type": "code",
      "execution_count": 32,
      "metadata": {
        "id": "rPrh4XiNtfAJ"
      },
      "outputs": [],
      "source": [
        "class MyDataset(Dataset):\n",
        "  def __init__(self, train_x, train_y):\n",
        "    self.length = 0\n",
        "\n",
        "    self.X = train_x\n",
        "    self.Y = train_y\n",
        "    self.length = len(self.X)\n",
        "\n",
        "\n",
        "\n",
        "\n",
        "  def __getitem__(self, index):\n",
        "    \n",
        "    x = self.X[index]\n",
        "    y = self.Y[index]\n",
        "    return x.astype(\"float32\"), y.astype(\"long\")\n",
        "\n",
        "\n",
        "\n",
        "  def __len__(self):\n",
        "    return self.length\n"
      ]
    },
    {
      "cell_type": "markdown",
      "metadata": {
        "id": "SMiFARNcvo3g"
      },
      "source": [
        "## Dataloader\n",
        "Using the torch.utils.data DataLoader, we shuffle the data and set the batch size to be 32"
      ]
    },
    {
      "cell_type": "code",
      "execution_count": 33,
      "metadata": {
        "id": "_qtuLbLAuI4G"
      },
      "outputs": [],
      "source": [
        "train_dataset = MyDataset(X_train, y_train)\n",
        "train_loader_args = dict(shuffle = True, batch_size = 32, num_workers = num_workers, pin_memory = True, drop_last = False) if cuda else dict(shuffle = True, batch_size = 16)\n",
        "train_loader = DataLoader(train_dataset, **train_loader_args)"
      ]
    },
    {
      "cell_type": "code",
      "execution_count": 34,
      "metadata": {
        "id": "AehyVV6-ufVJ"
      },
      "outputs": [],
      "source": [
        "test_dataset = MyDataset(X_test, y_test)\n",
        "test_loader_args = dict(shuffle = False, batch_size = 32, num_workers = num_workers, pin_memory = True, drop_last = False) if cuda else dict(shuffle = False, batch_size = 16)\n",
        "test_loader = DataLoader(test_dataset, **test_loader_args)"
      ]
    },
    {
      "cell_type": "markdown",
      "metadata": {
        "id": "yol_BAgYwIth"
      },
      "source": [
        "# Define our Neural Network Model \n",
        "We define our model using the torch.nn.Module class"
      ]
    },
    {
      "cell_type": "code",
      "execution_count": 40,
      "metadata": {
        "id": "nrnmOtK7uhgt"
      },
      "outputs": [],
      "source": [
        "# SIMPLE MODEL DEFINITION\n",
        "class Simple_MLP(nn.Module):\n",
        "    def __init__(self, input_dim):\n",
        "        super(Simple_MLP, self).__init__()\n",
        "        self.layer1 = nn.Linear(input_dim, 96)\n",
        "        self.layer2 = nn.Linear(96, 64)\n",
        "        self.layer3 = nn.Linear(64, 3)\n",
        "        \n",
        "    def forward(self, x):\n",
        "        x = F.relu(self.layer1(x))\n",
        "\n",
        "        x = F.relu(self.layer2(x))\n",
        "        x = F.softmax(self.layer3(x), dim=1)\n",
        "        return x"
      ]
    },
    {
      "cell_type": "markdown",
      "metadata": {
        "id": "5H1x0VEfwrqK"
      },
      "source": [
        "# Create the model and define the Loss and Optimizer\n",
        "We create an instance of our Simple_MLP model by passing it a list of layer sizes. The input layer contains 28*28 = 784 neurons. We define a single hidden layer of size 256, and our output will be the class probabilities for each of the 10 digits (0-9). \n",
        "\n",
        "Since this is a classification task, we will use Cross Entropy Loss. We define our criterion using the torch.nn.CrossEntropyLoss.\n",
        "\n",
        "In order to train our network, we use the torch.optim.SGD optimizer."
      ]
    },
    {
      "cell_type": "code",
      "execution_count": 42,
      "metadata": {
        "colab": {
          "base_uri": "https://localhost:8080/"
        },
        "id": "ReCYDPq9wp4n",
        "outputId": "9a9904b6-5af8-4c35-ab72-5e350d59d9ed"
      },
      "outputs": [
        {
          "name": "stdout",
          "output_type": "stream",
          "text": [
            "Simple_MLP(\n",
            "  (layer1): Linear(in_features=4, out_features=96, bias=True)\n",
            "  (layer2): Linear(in_features=96, out_features=64, bias=True)\n",
            "  (layer3): Linear(in_features=64, out_features=3, bias=True)\n",
            ")\n"
          ]
        }
      ],
      "source": [
        "model = Simple_MLP(X_train.shape[1]) #4\n",
        "criterion = nn.CrossEntropyLoss()\n",
        "optimizer = optim.Adam(model.parameters(), weight_decay=1e-5)\n",
        "model.to(device)\n",
        "print(model)"
      ]
    },
    {
      "cell_type": "code",
      "execution_count": 37,
      "metadata": {
        "id": "N5upJ6xTxE4H"
      },
      "outputs": [],
      "source": [
        "def train_epoch(model, train_loader, criterion, optimizer):\n",
        "    model.train()\n",
        "\n",
        "    running_loss = 0.0\n",
        "    \n",
        "    start_time = time.time()\n",
        "    for batch_idx, (data, target) in enumerate(train_loader):   \n",
        "        optimizer.zero_grad()   # .backward() accumulates gradients\n",
        "        data = data.to(device)\n",
        "        target = target.to(device) # all data & model on same device\n",
        "\n",
        "        outputs = model(data)\n",
        "        loss = criterion(outputs, target)\n",
        "        running_loss += loss.item()\n",
        "\n",
        "        loss.backward()\n",
        "        optimizer.step()\n",
        "    \n",
        "    end_time = time.time()\n",
        "    \n",
        "    running_loss /= len(train_loader)\n",
        "    print('Training Loss: ', running_loss, 'Time: ',end_time - start_time, 's')\n",
        "    return running_loss"
      ]
    },
    {
      "cell_type": "code",
      "execution_count": 38,
      "metadata": {
        "id": "pW4GaSwNxROg"
      },
      "outputs": [],
      "source": [
        "def test_model(model, test_loader, criterion):\n",
        "    with torch.no_grad():\n",
        "        model.eval()\n",
        "\n",
        "        running_loss = 0.0\n",
        "        total_predictions = 0.0\n",
        "        correct_predictions = 0.0\n",
        "\n",
        "        for batch_idx, (data, target) in enumerate(test_loader):   \n",
        "            data = data.to(device)\n",
        "            target = target.to(device)\n",
        "\n",
        "            outputs = model(data)\n",
        "\n",
        "            predicted = torch.argmax(outputs, dim=1)\n",
        "            total_predictions += target.size(0)\n",
        "            correct_predictions += (predicted == target).sum().item()\n",
        "\n",
        "            loss = criterion(outputs, target).detach()\n",
        "            running_loss += loss.item()\n",
        "\n",
        "\n",
        "        running_loss /= len(test_loader)\n",
        "        acc = (correct_predictions/total_predictions)*100.0\n",
        "        print('Testing Loss: ', running_loss)\n",
        "        print('Testing Accuracy: ', acc, '%')\n",
        "        return running_loss, acc\n"
      ]
    },
    {
      "cell_type": "markdown",
      "metadata": {
        "id": "RAR8B2YryRUd"
      },
      "source": [
        "# Start Training"
      ]
    },
    {
      "cell_type": "code",
      "execution_count": 43,
      "metadata": {
        "colab": {
          "base_uri": "https://localhost:8080/"
        },
        "id": "8m3-dJoGyAyG",
        "outputId": "13e3ac7a-1bde-422f-c21b-50e381745eae"
      },
      "outputs": [
        {
          "name": "stdout",
          "output_type": "stream",
          "text": [
            "Training Loss:  1.0568784475326538 Time:  0.01980280876159668 s\n",
            "Testing Loss:  1.0096579790115356\n",
            "Testing Accuracy:  73.33333333333333 %\n",
            "====================\n",
            "Training Loss:  0.9713124707341194 Time:  0.012858152389526367 s\n",
            "Testing Loss:  0.930728018283844\n",
            "Testing Accuracy:  73.33333333333333 %\n",
            "====================\n",
            "Training Loss:  0.9098915755748749 Time:  0.016101837158203125 s\n",
            "Testing Loss:  0.8509744107723236\n",
            "Testing Accuracy:  73.33333333333333 %\n",
            "====================\n",
            "Training Loss:  0.8418034389615059 Time:  0.010380744934082031 s\n",
            "Testing Loss:  0.7945247292518616\n",
            "Testing Accuracy:  76.66666666666667 %\n",
            "====================\n",
            "Training Loss:  0.7975567653775215 Time:  0.0192263126373291 s\n",
            "Testing Loss:  0.7604177892208099\n",
            "Testing Accuracy:  80.0 %\n",
            "====================\n",
            "Training Loss:  0.7658775299787521 Time:  0.012276411056518555 s\n",
            "Testing Loss:  0.7348880469799042\n",
            "Testing Accuracy:  86.66666666666667 %\n",
            "====================\n",
            "Training Loss:  0.7396701946854591 Time:  0.01060342788696289 s\n",
            "Testing Loss:  0.7179379165172577\n",
            "Testing Accuracy:  86.66666666666667 %\n",
            "====================\n",
            "Training Loss:  0.717106893658638 Time:  0.01918339729309082 s\n",
            "Testing Loss:  0.7063055634498596\n",
            "Testing Accuracy:  86.66666666666667 %\n",
            "====================\n",
            "Training Loss:  0.7036626413464546 Time:  0.012264490127563477 s\n",
            "Testing Loss:  0.6950983703136444\n",
            "Testing Accuracy:  86.66666666666667 %\n",
            "====================\n",
            "Training Loss:  0.6856591328978539 Time:  0.014499902725219727 s\n",
            "Testing Loss:  0.6843921542167664\n",
            "Testing Accuracy:  90.0 %\n",
            "====================\n"
          ]
        }
      ],
      "source": [
        "n_epochs = 10\n",
        "Train_loss = []\n",
        "Test_loss = []\n",
        "Test_acc = []\n",
        "\n",
        "for i in range(n_epochs):\n",
        "    train_loss = train_epoch(model, train_loader, criterion, optimizer)\n",
        "    test_loss, test_acc = test_model(model, test_loader, criterion)\n",
        "    Train_loss.append(train_loss)\n",
        "    Test_loss.append(test_loss)\n",
        "    Test_acc.append(test_acc)\n",
        "    print('='*20)"
      ]
    },
    {
      "cell_type": "markdown",
      "metadata": {
        "id": "xTElE7JczzFM"
      },
      "source": [
        "## Visualize Training Logs"
      ]
    },
    {
      "cell_type": "code",
      "execution_count": 44,
      "metadata": {
        "colab": {
          "base_uri": "https://localhost:8080/",
          "height": 316
        },
        "id": "sbOCk2fCyTzE",
        "outputId": "29f27258-6225-4923-f7ad-566d4dbaa319"
      },
      "outputs": [
        {
          "data": {
            "text/plain": [
              "[<matplotlib.lines.Line2D at 0x7f5928dbb2e0>]"
            ]
          },
          "execution_count": 44,
          "metadata": {},
          "output_type": "execute_result"
        },
        {
          "data": {
            "image/png": "[encoded data removed]",
            "text/plain": [
              "<Figure size 432x288 with 1 Axes>"
            ]
          },
          "metadata": {
            "needs_background": "light"
          },
          "output_type": "display_data"
        }
      ],
      "source": [
        "plt.title('Training Loss')\n",
        "plt.xlabel('Epoch Number')\n",
        "plt.ylabel('Loss')\n",
        "plt.plot(Train_loss)"
      ]
    },
    {
      "cell_type": "code",
      "execution_count": 45,
      "metadata": {
        "colab": {
          "base_uri": "https://localhost:8080/",
          "height": 316
        },
        "id": "DYWCLCzNz2uH",
        "outputId": "7016202e-b889-4791-e106-9a61b6ca9a7b"
      },
      "outputs": [
        {
          "data": {
            "text/plain": [
              "[<matplotlib.lines.Line2D at 0x7f5928910790>]"
            ]
          },
          "execution_count": 45,
          "metadata": {},
          "output_type": "execute_result"
        },
        {
          "data": {
            "image/png": "[encoded data removed]",
            "text/plain": [
              "<Figure size 432x288 with 1 Axes>"
            ]
          },
          "metadata": {
            "needs_background": "light"
          },
          "output_type": "display_data"
        }
      ],
      "source": [
        "plt.title('Test Loss')\n",
        "plt.xlabel('Epoch Number')\n",
        "plt.ylabel('Loss')\n",
        "plt.plot(Test_loss)"
      ]
    },
    {
      "cell_type": "code",
      "execution_count": 46,
      "metadata": {
        "colab": {
          "base_uri": "https://localhost:8080/",
          "height": 316
        },
        "id": "Q8E_ah-vz6HV",
        "outputId": "9a884808-e3f6-4837-8ed2-117637c51087"
      },
      "outputs": [
        {
          "data": {
            "text/plain": [
              "[<matplotlib.lines.Line2D at 0x7f59288790d0>]"
            ]
          },
          "execution_count": 46,
          "metadata": {},
          "output_type": "execute_result"
        },
        {
          "data": {
            "image/png": "[encoded data removed]",
            "text/plain": [
              "<Figure size 432x288 with 1 Axes>"
            ]
          },
          "metadata": {
            "needs_background": "light"
          },
          "output_type": "display_data"
        }
      ],
      "source": [
        "plt.title('Test Accuracy')\n",
        "plt.xlabel('Epoch Number')\n",
        "plt.ylabel('Accuracy (%)')\n",
        "plt.plot(Test_acc)"
      ]
    },
    {
      "cell_type": "code",
      "execution_count": null,
      "metadata": {
        "id": "q-H7wqBgz8Ou"
      },
      "outputs": [],
      "source": []
    }
  ],
  "metadata": {
    "colab": {
      "provenance": []
    },
    "kernelspec": {
      "display_name": "python38",
      "language": "python",
      "name": "python3"
    },
    "language_info": {
      "codemirror_mode": {
        "name": "ipython",
        "version": 3
      },
      "file_extension": ".py",
      "mimetype": "text/x-python",
      "name": "python",
      "nbconvert_exporter": "python",
      "pygments_lexer": "ipython3",
      "version": "3.8.15"
    },
    "vscode": {
      "interpreter": {
        "hash": "2bec0f5319ccd7bd4cff7909734b8d1f8b1ea07f572a6548f413ad674269ff9c"
      }
    }
  },
  "nbformat": 4,
  "nbformat_minor": 0
}
